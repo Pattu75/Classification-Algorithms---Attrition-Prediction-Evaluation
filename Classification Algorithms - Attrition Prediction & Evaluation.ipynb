{
 "cells": [
  {
   "cell_type": "markdown",
   "id": "a5a5fe81",
   "metadata": {},
   "source": [
    "# Classification Algorithms - Attrition Prediction & Evaluation:"
   ]
  },
  {
   "cell_type": "markdown",
   "id": "e1b78aec",
   "metadata": {},
   "source": [
    "In this Project we will work on the subset of the the synthetic [IBM HR Employees Attrition dataset](https://www.kaggle.com/janiobachmann/attrition-in-an-organization-why-workers-quit/data?select=WA_Fn-UseC_-HR-Employee-Attrition.csv). \n",
    "\n",
    "The dataset gives information about the employees in the organization and the target variable (Y) is Attrition, which tells whether an employee was replaced or not.  We will look at the variables and different factors that affect employee performance, including factors like the work from home sitation, their job role, their monthly income, and other similar factors.\n"
   ]
  },
  {
   "cell_type": "markdown",
   "id": "cab2e05b",
   "metadata": {},
   "source": [
    "## Importing the libraries and datasets:"
   ]
  },
  {
   "cell_type": "markdown",
   "id": "bec13f99",
   "metadata": {},
   "source": [
    "To get started, first we should import the required libraries and the dataset that we need for our project. \n",
    "Our next step is that we need to import our data set."
   ]
  },
  {
   "cell_type": "code",
   "execution_count": 4,
   "id": "8699e072",
   "metadata": {},
   "outputs": [],
   "source": [
    "# Basics\n",
    "import pandas as pd\n",
    "import numpy as np\n",
    "\n",
    "# Data Visualization\n",
    "import matplotlib.pyplot as plt\n",
    "import seaborn as sns\n",
    "\n",
    "# SkLearn ML General\n",
    "from sklearn import preprocessing\n",
    "from sklearn.model_selection import train_test_split\n",
    "from sklearn.metrics import plot_confusion_matrix\n",
    "from sklearn import metrics\n",
    "\n",
    "# SkLearn ML Classification Algorithms\n",
    "from sklearn.naive_bayes import GaussianNB\n",
    "from sklearn.neighbors import KNeighborsClassifier\n",
    "from sklearn.tree import DecisionTreeClassifier\n",
    "from sklearn.ensemble import RandomForestClassifier\n",
    "from sklearn.svm import SVC\n",
    "from sklearn import svm"
   ]
  },
  {
   "cell_type": "markdown",
   "id": "d842a5be",
   "metadata": {},
   "source": [
    "The original dataset contains around 35 feature variables. We will be using a subset of that and use 14 features in this project."
   ]
  },
  {
   "cell_type": "code",
   "execution_count": 5,
   "id": "ef640697",
   "metadata": {},
   "outputs": [
    {
     "data": {
      "text/html": [
       "<div>\n",
       "<style scoped>\n",
       "    .dataframe tbody tr th:only-of-type {\n",
       "        vertical-align: middle;\n",
       "    }\n",
       "\n",
       "    .dataframe tbody tr th {\n",
       "        vertical-align: top;\n",
       "    }\n",
       "\n",
       "    .dataframe thead th {\n",
       "        text-align: right;\n",
       "    }\n",
       "</style>\n",
       "<table border=\"1\" class=\"dataframe\">\n",
       "  <thead>\n",
       "    <tr style=\"text-align: right;\">\n",
       "      <th></th>\n",
       "      <th>Attrition</th>\n",
       "      <th>Age</th>\n",
       "      <th>BusinessTravel</th>\n",
       "      <th>DistanceFromHome</th>\n",
       "      <th>JobSatisfaction</th>\n",
       "      <th>MaritalStatus</th>\n",
       "      <th>MonthlyIncome</th>\n",
       "      <th>OverTime</th>\n",
       "      <th>StockOptionLevel</th>\n",
       "      <th>TotalWorkingYears</th>\n",
       "      <th>WorkLifeBalance</th>\n",
       "      <th>YearsAtCompany</th>\n",
       "      <th>YearsInCurrentRole</th>\n",
       "      <th>YearsSinceLastPromotion</th>\n",
       "    </tr>\n",
       "  </thead>\n",
       "  <tbody>\n",
       "    <tr>\n",
       "      <th>0</th>\n",
       "      <td>1</td>\n",
       "      <td>41</td>\n",
       "      <td>2</td>\n",
       "      <td>1</td>\n",
       "      <td>4</td>\n",
       "      <td>2</td>\n",
       "      <td>5993</td>\n",
       "      <td>1</td>\n",
       "      <td>0</td>\n",
       "      <td>8</td>\n",
       "      <td>1</td>\n",
       "      <td>6</td>\n",
       "      <td>4</td>\n",
       "      <td>0</td>\n",
       "    </tr>\n",
       "    <tr>\n",
       "      <th>1</th>\n",
       "      <td>0</td>\n",
       "      <td>49</td>\n",
       "      <td>1</td>\n",
       "      <td>8</td>\n",
       "      <td>2</td>\n",
       "      <td>1</td>\n",
       "      <td>5130</td>\n",
       "      <td>0</td>\n",
       "      <td>1</td>\n",
       "      <td>10</td>\n",
       "      <td>3</td>\n",
       "      <td>10</td>\n",
       "      <td>7</td>\n",
       "      <td>1</td>\n",
       "    </tr>\n",
       "    <tr>\n",
       "      <th>2</th>\n",
       "      <td>1</td>\n",
       "      <td>37</td>\n",
       "      <td>2</td>\n",
       "      <td>2</td>\n",
       "      <td>3</td>\n",
       "      <td>2</td>\n",
       "      <td>2090</td>\n",
       "      <td>1</td>\n",
       "      <td>0</td>\n",
       "      <td>7</td>\n",
       "      <td>3</td>\n",
       "      <td>0</td>\n",
       "      <td>0</td>\n",
       "      <td>0</td>\n",
       "    </tr>\n",
       "    <tr>\n",
       "      <th>3</th>\n",
       "      <td>0</td>\n",
       "      <td>33</td>\n",
       "      <td>1</td>\n",
       "      <td>3</td>\n",
       "      <td>3</td>\n",
       "      <td>1</td>\n",
       "      <td>2909</td>\n",
       "      <td>1</td>\n",
       "      <td>0</td>\n",
       "      <td>8</td>\n",
       "      <td>3</td>\n",
       "      <td>8</td>\n",
       "      <td>7</td>\n",
       "      <td>3</td>\n",
       "    </tr>\n",
       "    <tr>\n",
       "      <th>4</th>\n",
       "      <td>0</td>\n",
       "      <td>27</td>\n",
       "      <td>2</td>\n",
       "      <td>2</td>\n",
       "      <td>2</td>\n",
       "      <td>1</td>\n",
       "      <td>3468</td>\n",
       "      <td>0</td>\n",
       "      <td>1</td>\n",
       "      <td>6</td>\n",
       "      <td>3</td>\n",
       "      <td>2</td>\n",
       "      <td>2</td>\n",
       "      <td>2</td>\n",
       "    </tr>\n",
       "    <tr>\n",
       "      <th>...</th>\n",
       "      <td>...</td>\n",
       "      <td>...</td>\n",
       "      <td>...</td>\n",
       "      <td>...</td>\n",
       "      <td>...</td>\n",
       "      <td>...</td>\n",
       "      <td>...</td>\n",
       "      <td>...</td>\n",
       "      <td>...</td>\n",
       "      <td>...</td>\n",
       "      <td>...</td>\n",
       "      <td>...</td>\n",
       "      <td>...</td>\n",
       "      <td>...</td>\n",
       "    </tr>\n",
       "    <tr>\n",
       "      <th>1465</th>\n",
       "      <td>0</td>\n",
       "      <td>36</td>\n",
       "      <td>1</td>\n",
       "      <td>23</td>\n",
       "      <td>4</td>\n",
       "      <td>1</td>\n",
       "      <td>2571</td>\n",
       "      <td>0</td>\n",
       "      <td>1</td>\n",
       "      <td>17</td>\n",
       "      <td>3</td>\n",
       "      <td>5</td>\n",
       "      <td>2</td>\n",
       "      <td>0</td>\n",
       "    </tr>\n",
       "    <tr>\n",
       "      <th>1466</th>\n",
       "      <td>0</td>\n",
       "      <td>39</td>\n",
       "      <td>2</td>\n",
       "      <td>6</td>\n",
       "      <td>1</td>\n",
       "      <td>1</td>\n",
       "      <td>9991</td>\n",
       "      <td>0</td>\n",
       "      <td>1</td>\n",
       "      <td>9</td>\n",
       "      <td>3</td>\n",
       "      <td>7</td>\n",
       "      <td>7</td>\n",
       "      <td>1</td>\n",
       "    </tr>\n",
       "    <tr>\n",
       "      <th>1467</th>\n",
       "      <td>0</td>\n",
       "      <td>27</td>\n",
       "      <td>2</td>\n",
       "      <td>4</td>\n",
       "      <td>2</td>\n",
       "      <td>1</td>\n",
       "      <td>6142</td>\n",
       "      <td>1</td>\n",
       "      <td>1</td>\n",
       "      <td>6</td>\n",
       "      <td>3</td>\n",
       "      <td>6</td>\n",
       "      <td>2</td>\n",
       "      <td>0</td>\n",
       "    </tr>\n",
       "    <tr>\n",
       "      <th>1468</th>\n",
       "      <td>0</td>\n",
       "      <td>49</td>\n",
       "      <td>1</td>\n",
       "      <td>2</td>\n",
       "      <td>2</td>\n",
       "      <td>1</td>\n",
       "      <td>5390</td>\n",
       "      <td>0</td>\n",
       "      <td>0</td>\n",
       "      <td>17</td>\n",
       "      <td>2</td>\n",
       "      <td>9</td>\n",
       "      <td>6</td>\n",
       "      <td>0</td>\n",
       "    </tr>\n",
       "    <tr>\n",
       "      <th>1469</th>\n",
       "      <td>0</td>\n",
       "      <td>34</td>\n",
       "      <td>2</td>\n",
       "      <td>8</td>\n",
       "      <td>3</td>\n",
       "      <td>1</td>\n",
       "      <td>4404</td>\n",
       "      <td>0</td>\n",
       "      <td>0</td>\n",
       "      <td>6</td>\n",
       "      <td>4</td>\n",
       "      <td>4</td>\n",
       "      <td>3</td>\n",
       "      <td>1</td>\n",
       "    </tr>\n",
       "  </tbody>\n",
       "</table>\n",
       "<p>1470 rows × 14 columns</p>\n",
       "</div>"
      ],
      "text/plain": [
       "      Attrition  Age  BusinessTravel  DistanceFromHome  JobSatisfaction  \\\n",
       "0             1   41               2                 1                4   \n",
       "1             0   49               1                 8                2   \n",
       "2             1   37               2                 2                3   \n",
       "3             0   33               1                 3                3   \n",
       "4             0   27               2                 2                2   \n",
       "...         ...  ...             ...               ...              ...   \n",
       "1465          0   36               1                23                4   \n",
       "1466          0   39               2                 6                1   \n",
       "1467          0   27               2                 4                2   \n",
       "1468          0   49               1                 2                2   \n",
       "1469          0   34               2                 8                3   \n",
       "\n",
       "      MaritalStatus  MonthlyIncome  OverTime  StockOptionLevel  \\\n",
       "0                 2           5993         1                 0   \n",
       "1                 1           5130         0                 1   \n",
       "2                 2           2090         1                 0   \n",
       "3                 1           2909         1                 0   \n",
       "4                 1           3468         0                 1   \n",
       "...             ...            ...       ...               ...   \n",
       "1465              1           2571         0                 1   \n",
       "1466              1           9991         0                 1   \n",
       "1467              1           6142         1                 1   \n",
       "1468              1           5390         0                 0   \n",
       "1469              1           4404         0                 0   \n",
       "\n",
       "      TotalWorkingYears  WorkLifeBalance  YearsAtCompany  YearsInCurrentRole  \\\n",
       "0                     8                1               6                   4   \n",
       "1                    10                3              10                   7   \n",
       "2                     7                3               0                   0   \n",
       "3                     8                3               8                   7   \n",
       "4                     6                3               2                   2   \n",
       "...                 ...              ...             ...                 ...   \n",
       "1465                 17                3               5                   2   \n",
       "1466                  9                3               7                   7   \n",
       "1467                  6                3               6                   2   \n",
       "1468                 17                2               9                   6   \n",
       "1469                  6                4               4                   3   \n",
       "\n",
       "      YearsSinceLastPromotion  \n",
       "0                           0  \n",
       "1                           1  \n",
       "2                           0  \n",
       "3                           3  \n",
       "4                           2  \n",
       "...                       ...  \n",
       "1465                        0  \n",
       "1466                        1  \n",
       "1467                        0  \n",
       "1468                        0  \n",
       "1469                        1  \n",
       "\n",
       "[1470 rows x 14 columns]"
      ]
     },
     "execution_count": 5,
     "metadata": {},
     "output_type": "execute_result"
    }
   ],
   "source": [
    "# Import Data Subset from HREmployeeData.csv\n",
    "employee_data = pd.read_csv('C:\\\\Users\\\\Pattu\\\\OneDrive\\\\Documents\\\\CFI BIDA\\\\06. Classification - Fundementals & Practical Applications\\\\3 - Classification Algorithms\\\\HREmployeeData.csv')\n",
    "employee_data"
   ]
  },
  {
   "cell_type": "markdown",
   "id": "3b635300",
   "metadata": {},
   "source": [
    "Now that we have imported our data, we can explore our data set before dive into our predictive modeling.\n",
    "We want to make sure we fully understand our data, to know how many features are there in our dataset, and what the distribution of our data is like."
   ]
  },
  {
   "cell_type": "markdown",
   "id": "d6877b50",
   "metadata": {},
   "source": [
    "## Data Exploration:"
   ]
  },
  {
   "cell_type": "code",
   "execution_count": 6,
   "id": "22da6315",
   "metadata": {},
   "outputs": [
    {
     "data": {
      "text/html": [
       "<div>\n",
       "<style scoped>\n",
       "    .dataframe tbody tr th:only-of-type {\n",
       "        vertical-align: middle;\n",
       "    }\n",
       "\n",
       "    .dataframe tbody tr th {\n",
       "        vertical-align: top;\n",
       "    }\n",
       "\n",
       "    .dataframe thead th {\n",
       "        text-align: right;\n",
       "    }\n",
       "</style>\n",
       "<table border=\"1\" class=\"dataframe\">\n",
       "  <thead>\n",
       "    <tr style=\"text-align: right;\">\n",
       "      <th></th>\n",
       "      <th>Attrition</th>\n",
       "      <th>Age</th>\n",
       "      <th>BusinessTravel</th>\n",
       "      <th>DistanceFromHome</th>\n",
       "      <th>JobSatisfaction</th>\n",
       "      <th>MaritalStatus</th>\n",
       "      <th>MonthlyIncome</th>\n",
       "      <th>OverTime</th>\n",
       "      <th>StockOptionLevel</th>\n",
       "      <th>TotalWorkingYears</th>\n",
       "      <th>WorkLifeBalance</th>\n",
       "      <th>YearsAtCompany</th>\n",
       "      <th>YearsInCurrentRole</th>\n",
       "      <th>YearsSinceLastPromotion</th>\n",
       "    </tr>\n",
       "  </thead>\n",
       "  <tbody>\n",
       "    <tr>\n",
       "      <th>count</th>\n",
       "      <td>1470.000000</td>\n",
       "      <td>1470.000000</td>\n",
       "      <td>1470.000000</td>\n",
       "      <td>1470.000000</td>\n",
       "      <td>1470.000000</td>\n",
       "      <td>1470.000000</td>\n",
       "      <td>1470.000000</td>\n",
       "      <td>1470.000000</td>\n",
       "      <td>1470.000000</td>\n",
       "      <td>1470.000000</td>\n",
       "      <td>1470.000000</td>\n",
       "      <td>1470.000000</td>\n",
       "      <td>1470.000000</td>\n",
       "      <td>1470.000000</td>\n",
       "    </tr>\n",
       "    <tr>\n",
       "      <th>mean</th>\n",
       "      <td>0.161224</td>\n",
       "      <td>36.923810</td>\n",
       "      <td>1.607483</td>\n",
       "      <td>9.192517</td>\n",
       "      <td>2.728571</td>\n",
       "      <td>1.097279</td>\n",
       "      <td>6502.931293</td>\n",
       "      <td>0.282993</td>\n",
       "      <td>0.793878</td>\n",
       "      <td>11.279592</td>\n",
       "      <td>2.761224</td>\n",
       "      <td>7.008163</td>\n",
       "      <td>4.229252</td>\n",
       "      <td>2.187755</td>\n",
       "    </tr>\n",
       "    <tr>\n",
       "      <th>std</th>\n",
       "      <td>0.367863</td>\n",
       "      <td>9.135373</td>\n",
       "      <td>0.665455</td>\n",
       "      <td>8.106864</td>\n",
       "      <td>1.102846</td>\n",
       "      <td>0.730121</td>\n",
       "      <td>4707.956783</td>\n",
       "      <td>0.450606</td>\n",
       "      <td>0.852077</td>\n",
       "      <td>7.780782</td>\n",
       "      <td>0.706476</td>\n",
       "      <td>6.126525</td>\n",
       "      <td>3.623137</td>\n",
       "      <td>3.222430</td>\n",
       "    </tr>\n",
       "    <tr>\n",
       "      <th>min</th>\n",
       "      <td>0.000000</td>\n",
       "      <td>18.000000</td>\n",
       "      <td>0.000000</td>\n",
       "      <td>1.000000</td>\n",
       "      <td>1.000000</td>\n",
       "      <td>0.000000</td>\n",
       "      <td>1009.000000</td>\n",
       "      <td>0.000000</td>\n",
       "      <td>0.000000</td>\n",
       "      <td>0.000000</td>\n",
       "      <td>1.000000</td>\n",
       "      <td>0.000000</td>\n",
       "      <td>0.000000</td>\n",
       "      <td>0.000000</td>\n",
       "    </tr>\n",
       "    <tr>\n",
       "      <th>25%</th>\n",
       "      <td>0.000000</td>\n",
       "      <td>30.000000</td>\n",
       "      <td>1.000000</td>\n",
       "      <td>2.000000</td>\n",
       "      <td>2.000000</td>\n",
       "      <td>1.000000</td>\n",
       "      <td>2911.000000</td>\n",
       "      <td>0.000000</td>\n",
       "      <td>0.000000</td>\n",
       "      <td>6.000000</td>\n",
       "      <td>2.000000</td>\n",
       "      <td>3.000000</td>\n",
       "      <td>2.000000</td>\n",
       "      <td>0.000000</td>\n",
       "    </tr>\n",
       "    <tr>\n",
       "      <th>50%</th>\n",
       "      <td>0.000000</td>\n",
       "      <td>36.000000</td>\n",
       "      <td>2.000000</td>\n",
       "      <td>7.000000</td>\n",
       "      <td>3.000000</td>\n",
       "      <td>1.000000</td>\n",
       "      <td>4919.000000</td>\n",
       "      <td>0.000000</td>\n",
       "      <td>1.000000</td>\n",
       "      <td>10.000000</td>\n",
       "      <td>3.000000</td>\n",
       "      <td>5.000000</td>\n",
       "      <td>3.000000</td>\n",
       "      <td>1.000000</td>\n",
       "    </tr>\n",
       "    <tr>\n",
       "      <th>75%</th>\n",
       "      <td>0.000000</td>\n",
       "      <td>43.000000</td>\n",
       "      <td>2.000000</td>\n",
       "      <td>14.000000</td>\n",
       "      <td>4.000000</td>\n",
       "      <td>2.000000</td>\n",
       "      <td>8379.000000</td>\n",
       "      <td>1.000000</td>\n",
       "      <td>1.000000</td>\n",
       "      <td>15.000000</td>\n",
       "      <td>3.000000</td>\n",
       "      <td>9.000000</td>\n",
       "      <td>7.000000</td>\n",
       "      <td>3.000000</td>\n",
       "    </tr>\n",
       "    <tr>\n",
       "      <th>max</th>\n",
       "      <td>1.000000</td>\n",
       "      <td>60.000000</td>\n",
       "      <td>2.000000</td>\n",
       "      <td>29.000000</td>\n",
       "      <td>4.000000</td>\n",
       "      <td>2.000000</td>\n",
       "      <td>19999.000000</td>\n",
       "      <td>1.000000</td>\n",
       "      <td>3.000000</td>\n",
       "      <td>40.000000</td>\n",
       "      <td>4.000000</td>\n",
       "      <td>40.000000</td>\n",
       "      <td>18.000000</td>\n",
       "      <td>15.000000</td>\n",
       "    </tr>\n",
       "  </tbody>\n",
       "</table>\n",
       "</div>"
      ],
      "text/plain": [
       "         Attrition          Age  BusinessTravel  DistanceFromHome  \\\n",
       "count  1470.000000  1470.000000     1470.000000       1470.000000   \n",
       "mean      0.161224    36.923810        1.607483          9.192517   \n",
       "std       0.367863     9.135373        0.665455          8.106864   \n",
       "min       0.000000    18.000000        0.000000          1.000000   \n",
       "25%       0.000000    30.000000        1.000000          2.000000   \n",
       "50%       0.000000    36.000000        2.000000          7.000000   \n",
       "75%       0.000000    43.000000        2.000000         14.000000   \n",
       "max       1.000000    60.000000        2.000000         29.000000   \n",
       "\n",
       "       JobSatisfaction  MaritalStatus  MonthlyIncome     OverTime  \\\n",
       "count      1470.000000    1470.000000    1470.000000  1470.000000   \n",
       "mean          2.728571       1.097279    6502.931293     0.282993   \n",
       "std           1.102846       0.730121    4707.956783     0.450606   \n",
       "min           1.000000       0.000000    1009.000000     0.000000   \n",
       "25%           2.000000       1.000000    2911.000000     0.000000   \n",
       "50%           3.000000       1.000000    4919.000000     0.000000   \n",
       "75%           4.000000       2.000000    8379.000000     1.000000   \n",
       "max           4.000000       2.000000   19999.000000     1.000000   \n",
       "\n",
       "       StockOptionLevel  TotalWorkingYears  WorkLifeBalance  YearsAtCompany  \\\n",
       "count       1470.000000        1470.000000      1470.000000     1470.000000   \n",
       "mean           0.793878          11.279592         2.761224        7.008163   \n",
       "std            0.852077           7.780782         0.706476        6.126525   \n",
       "min            0.000000           0.000000         1.000000        0.000000   \n",
       "25%            0.000000           6.000000         2.000000        3.000000   \n",
       "50%            1.000000          10.000000         3.000000        5.000000   \n",
       "75%            1.000000          15.000000         3.000000        9.000000   \n",
       "max            3.000000          40.000000         4.000000       40.000000   \n",
       "\n",
       "       YearsInCurrentRole  YearsSinceLastPromotion  \n",
       "count         1470.000000              1470.000000  \n",
       "mean             4.229252                 2.187755  \n",
       "std              3.623137                 3.222430  \n",
       "min              0.000000                 0.000000  \n",
       "25%              2.000000                 0.000000  \n",
       "50%              3.000000                 1.000000  \n",
       "75%              7.000000                 3.000000  \n",
       "max             18.000000                15.000000  "
      ]
     },
     "execution_count": 6,
     "metadata": {},
     "output_type": "execute_result"
    }
   ],
   "source": [
    "# Descriptive stats for the dataset\n",
    "employee_data.describe()"
   ]
  },
  {
   "cell_type": "markdown",
   "id": "a3ed0f4a",
   "metadata": {},
   "source": [
    "Since we're trying to predict Attrition, we can get a better understanding of this variable specifically. So, we can have a look at the target variable (Attrition) using a histogram plot to see how frequently it's values occur within our data set."
   ]
  },
  {
   "cell_type": "code",
   "execution_count": 7,
   "id": "286cae96",
   "metadata": {},
   "outputs": [
    {
     "data": {
      "text/plain": [
       "Text(0.5, 0, 'Attrition')"
      ]
     },
     "execution_count": 7,
     "metadata": {},
     "output_type": "execute_result"
    },
    {
     "data": {
      "image/png": "[encoded data removed]",
      "text/plain": [
       "<Figure size 720x360 with 1 Axes>"
      ]
     },
     "metadata": {
      "needs_background": "light"
     },
     "output_type": "display_data"
    }
   ],
   "source": [
    "# Plot a Histogram of the target variable\n",
    "employee_data.Attrition.value_counts().nlargest(40).plot(kind='bar', figsize=(10,5))\n",
    "plt.title('Attrition of Employees')\n",
    "plt.ylabel('Occurence of each in the dataset')\n",
    "plt.xlabel('Attrition')"
   ]
  },
  {
   "cell_type": "markdown",
   "id": "0de3e314",
   "metadata": {},
   "source": [
    "From the plot, we can see that most employees were not replaced, but a few (less than 200) were attritioned."
   ]
  },
  {
   "cell_type": "markdown",
   "id": "98897b87",
   "metadata": {},
   "source": [
    "## Predictive Modelling:"
   ]
  },
  {
   "cell_type": "code",
   "execution_count": 8,
   "id": "c9897493",
   "metadata": {},
   "outputs": [],
   "source": [
    "# Separate x_inputs from y_target variables\n",
    "x_inputs = employee_data.drop(['Attrition'], axis = 1)\n",
    "y_target = employee_data['Attrition']"
   ]
  },
  {
   "cell_type": "markdown",
   "id": "9881232d",
   "metadata": {},
   "source": [
    "### Test-Train-Split:"
   ]
  },
  {
   "cell_type": "markdown",
   "id": "3ce8855f",
   "metadata": {},
   "source": [
    "Split the data into 50% training set and 50% testing set, and then initialize each of the classifiers."
   ]
  },
  {
   "cell_type": "code",
   "execution_count": 9,
   "id": "5aaee275",
   "metadata": {},
   "outputs": [],
   "source": [
    "# Split the dataset into training and test sets\n",
    "X_train, X_test, y_train, y_test = train_test_split(x_inputs, y_target, test_size=0.5, random_state=0)"
   ]
  },
  {
   "cell_type": "markdown",
   "id": "77a57876",
   "metadata": {},
   "source": [
    "Once our dataset is split, we will now initialize each of the classifiers and fit them to our training data. We implement the algorithms."
   ]
  },
  {
   "cell_type": "code",
   "execution_count": 12,
   "id": "63e2c9b7",
   "metadata": {},
   "outputs": [
    {
     "name": "stdout",
     "output_type": "stream",
     "text": [
      "Number of mislabeled points out of a total 735 points:\n",
      "classifier_NB: 104\n",
      "classifier_SVM: 112\n",
      "classifier_KNN: 139\n",
      "classifier_DT: 148\n",
      "classifier_RF: 109\n"
     ]
    }
   ],
   "source": [
    "# Define the classifiers\\n\",\n",
    "classifiers = {\n",
    "    \"classifier_NB\":    GaussianNB(),\n",
    "    \"classifier_SVM\":   SVC(gamma = 2, C = 1),\n",
    "    \"classifier_KNN\":   KNeighborsClassifier(n_neighbors = 3),\n",
    "    \"classifier_DT\":    DecisionTreeClassifier(random_state = 0),\n",
    "    \"classifier_RF\":    RandomForestClassifier(max_depth = 2, random_state = 0)\n",
    "}\n",
    "\n",
    "results = {}\n",
    "\n",
    "print(\"Number of mislabeled points out of a total %d points:\" % X_test.shape[0])\n",
    "   \n",
    "# Train the classifiers on the training set and test classifiers on unseen test data\n",
    "for clf_name, clf_model in classifiers.items():\n",
    "        clf_model.fit(X_train, y_train)\n",
    "        clf_model.predict(X_test)\n",
    "        print(clf_name + \": %d\" % (y_test != clf_model.predict(X_test)).sum())\n",
    "        results[clf_name] = clf_model.predict(X_test)"
   ]
  },
  {
   "cell_type": "markdown",
   "id": "4933f645",
   "metadata": {},
   "source": [
    "## Evaluation Metrics:\n",
    "\n",
    "We will use Accuracy, Precision, Recall and F₁ and F₂ score to evaluate our model's performance results using sklearn's metric library.. "
   ]
  },
  {
   "cell_type": "code",
   "execution_count": 23,
   "id": "d39f70ad",
   "metadata": {
    "scrolled": true
   },
   "outputs": [
    {
     "name": "stdout",
     "output_type": "stream",
     "text": [
      "Accuracy Scores:\n",
      "classifier_NB:  85.8503\n",
      "classifier_SVM:  84.7619\n",
      "classifier_KNN:  81.0884\n",
      "classifier_DT:  79.8639\n",
      "classifier_RF:  85.1701\n",
      "\n",
      "Precision Scores:\n",
      "classifier_NB:  85.6453\n",
      "classifier_SVM:  71.8458\n",
      "classifier_KNN:  77.6368\n",
      "classifier_DT:  80.7356\n",
      "classifier_RF:  87.3784\n",
      "\n",
      "Recall Scores:\n",
      "classifier_NB:  85.8503\n",
      "classifier_SVM:  84.7619\n",
      "classifier_KNN:  81.0884\n",
      "classifier_DT:  79.8639\n",
      "classifier_RF:  85.1701\n",
      "\n",
      "F₁ Scores:\n",
      "classifier_NB: 85.7443\n",
      "classifier_SVM: 91.7526\n",
      "classifier_KNN: 79.0409\n",
      "classifier_DT: 80.278\n",
      "classifier_RF: 78.7385\n",
      "\n",
      "F₂ Scores:\n",
      "classifier_NB:  85.8071\n",
      "classifier_SVM:  81.8201\n",
      "classifier_KNN:  80.2102\n",
      "classifier_DT:  80.0241\n",
      "classifier_RF:  82.403\n"
     ]
    },
    {
     "name": "stderr",
     "output_type": "stream",
     "text": [
      "C:\\Users\\Pattu\\anaconda3\\lib\\site-packages\\sklearn\\metrics\\_classification.py:1245: UndefinedMetricWarning: Precision is ill-defined and being set to 0.0 in labels with no predicted samples. Use `zero_division` parameter to control this behavior.\n",
      "  _warn_prf(average, modifier, msg_start, len(result))\n"
     ]
    }
   ],
   "source": [
    "# Print Evaluation Metrics: Accuracy, Precision, Recall, F1 and F2\n",
    "\n",
    "print(\"Accuracy Scores:\")\n",
    "for clf_name, clf_model in results.items():\n",
    "    print(clf_name + \": \", round(metrics.accuracy_score(y_test, clf_model) * 100,4))\n",
    "           \n",
    "print(\"\\nPrecision Scores:\")\n",
    "for clf_name, clf_model in results.items():\n",
    "    print(clf_name + \": \", round(metrics.precision_score(y_test, clf_model, average = 'weighted') * 100,4))\n",
    "      \n",
    "print(\"\\nRecall Scores:\")\n",
    "for clf_name, clf_model in results.items():\n",
    "    print(clf_name + \": \", round(metrics.recall_score(y_test, clf_model, average = 'weighted') * 100, 4))  \n",
    "      \n",
    "print(\"\\nF₁ Scores:\")\n",
    "for clf_name, clf_model in results.items():\n",
    "    print(clf_name + \":\", round(metrics.f1_score(y_test, clf_model, average = 'weighted', labels = np.unique(clf_model)) * 100, 4)) \n",
    "      \n",
    "      \n",
    "print(\"\\nF₂ Scores:\")\n",
    "for clf_name, clf_model in results.items():\n",
    "    print(clf_name + \": \", round(metrics.fbeta_score(y_test, clf_model, average = 'weighted', beta = 2) * 100,4))"
   ]
  },
  {
   "cell_type": "markdown",
   "id": "a3b54fcc",
   "metadata": {},
   "source": [
    "Next, we can plot the results on a confusion matrix using [sklearn's plot_confusion_matrix function](https://scikit-learn.org/stable/modules/generated/sklearn.metrics.plot_confusion_matrix.html#sklearn.metrics.plot_confusion_matrix) as we saw in the lecture slides for a visual evaluation."
   ]
  },
  {
   "cell_type": "code",
   "execution_count": 25,
   "id": "3aedf70c",
   "metadata": {},
   "outputs": [
    {
     "data": {
      "image/png": "[encoded data removed]",
      "text/plain": [
       "<Figure size 432x288 with 2 Axes>"
      ]
     },
     "metadata": {
      "needs_background": "light"
     },
     "output_type": "display_data"
    },
    {
     "data": {
      "image/png": "[encoded data removed]",
      "text/plain": [
       "<Figure size 432x288 with 2 Axes>"
      ]
     },
     "metadata": {
      "needs_background": "light"
     },
     "output_type": "display_data"
    },
    {
     "data": {
      "image/png": "[encoded data removed]",
      "text/plain": [
       "<Figure size 432x288 with 2 Axes>"
      ]
     },
     "metadata": {
      "needs_background": "light"
     },
     "output_type": "display_data"
    },
    {
     "data": {
      "image/png": "[encoded data removed]",
      "text/plain": [
       "<Figure size 432x288 with 2 Axes>"
      ]
     },
     "metadata": {
      "needs_background": "light"
     },
     "output_type": "display_data"
    },
    {
     "data": {
      "image/png": "[encoded data removed]",
      "text/plain": [
       "<Figure size 432x288 with 2 Axes>"
      ]
     },
     "metadata": {
      "needs_background": "light"
     },
     "output_type": "display_data"
    }
   ],
   "source": [
    "# Display Confusion Matrix For Each Classifier\n",
    "for clf_name, clf_model in classifiers.items():\n",
    "    plot_confusion_matrix(clf_model, X_test, y_test)\n",
    "    plt.title(clf_name)\n",
    "    plt.tight_layout()\n"
   ]
  },
  {
   "cell_type": "markdown",
   "id": "e208bdc9",
   "metadata": {},
   "source": [
    "We can see that for both models, they predict mostly '0' label which is the 'Not Attritioned' in our dataset as most of our data was trained for class values '0'. Next we will plot the [ROC curve](https://scikit-learn.org/stable/modules/generated/sklearn.metrics.RocCurveDisplay.html#sklearn.metrics.RocCurveDisplay). ROC shows the results at different classification thresholds as seen on the curve."
   ]
  },
  {
   "cell_type": "markdown",
   "id": "a560495c",
   "metadata": {},
   "source": [
    "Our last task is to plot the ROC curve of each of these classifiers. Ideally, we want to plot all 5 curves on the same chart to make them easier to compare."
   ]
  },
  {
   "cell_type": "code",
   "execution_count": 19,
   "id": "ea9b083f",
   "metadata": {},
   "outputs": [
    {
     "data": {
      "image/png": "[encoded data removed]",
      "text/plain": [
       "<Figure size 432x288 with 1 Axes>"
      ]
     },
     "metadata": {
      "needs_background": "light"
     },
     "output_type": "display_data"
    }
   ],
   "source": [
    "# Plot ROC Curve\n",
    "roc_figure, roc_axis = plt.subplots()\n",
    "for clf_name, clf_model in classifiers.items():\n",
    "        metrics.plot_roc_curve(clf_model, X_test, y_test, ax = roc_axis)\n",
    "        "
   ]
  },
  {
   "cell_type": "markdown",
   "id": "9c19d2d6",
   "metadata": {},
   "source": [
    "Note that Guassian NB and Random Forest Classifiers outperform the other models. Their curves stretch further towards the top left of the chart, and they both have respectively a similar AUC = 0.77 and 0.76. So, we have to take a decision of which model to take forward, or what threshold should we use to build the most effective model."
   ]
  }
 ],
 "metadata": {
  "kernelspec": {
   "display_name": "Python 3",
   "language": "python",
   "name": "python3"
  },
  "language_info": {
   "codemirror_mode": {
    "name": "ipython",
    "version": 3
   },
   "file_extension": ".py",
   "mimetype": "text/x-python",
   "name": "python",
   "nbconvert_exporter": "python",
   "pygments_lexer": "ipython3",
   "version": "3.8.8"
  }
 },
 "nbformat": 4,
 "nbformat_minor": 5
}
